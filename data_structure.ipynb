{
  "nbformat": 4,
  "nbformat_minor": 0,
  "metadata": {
    "colab": {
      "provenance": []
    },
    "kernelspec": {
      "name": "python3",
      "display_name": "Python 3"
    },
    "language_info": {
      "name": "python"
    }
  },
  "cells": [
    {
      "cell_type": "markdown",
      "source": [
        "1. What are data structures, and why are they important?\n",
        "-  A data structure is a way of organizing, storing, and managing data so that it can be used efficiently.\n",
        "\n",
        "\n",
        "Data structures matter because they:\n",
        "\n",
        "- Organize Data Efficiently – They help keep data structured for easy access.\n",
        "\n",
        "- Improve Performance – Choosing the right structure can make a program run much faster.\n",
        "\n",
        "- Save Memory – Avoids wasting space by storing data in optimal ways.\n",
        "\n",
        "- Simplify Complex Problems – Many algorithms depend on specific data structures.\n",
        "\n",
        "- Enable Scalability – Essential for handling large amounts of data in applications.\n",
        "\n",
        "2. Explain the difference between mutable and immutable data types with examples?\n",
        "-  Mutable Data Types\n",
        "Definition: Their contents can be changed (modified) after creation.\n",
        "\n",
        "Changes happen in place, meaning the object’s memory location stays the same.\n",
        "\n",
        "Examples in Python:\n",
        "\n",
        "- List\n",
        "- Dictionary\n",
        "- Set\n",
        "\n",
        " Immutable Data Types\n",
        "Definition: Their contents cannot be changed after creation.\n",
        "\n",
        "If you \"change\" them, Python actually creates a new object in memory.\n",
        "\n",
        "Examples in Python:\n",
        "\n",
        "- String\n",
        "- Tuple\n",
        "- Integer\n",
        "- Float\n",
        "- Boolean\n",
        "\n",
        "3. What are the main differences between lists and tuples in Python\n",
        "-   Mutability\n",
        "List: Mutable – you can change, add, or remove elements after creation.\n",
        "\n",
        "Tuple:  Immutable – once created, you can’t modify the elements.\n",
        "\n",
        "Example:  list_example = [10, 20, 30]\n",
        "          tuple_example = (10, 20, 30)\n",
        "\n",
        "4. Describe how dictionaries store data?\n",
        "-  A dictionary in Python stores data as key–value pairs using a structure called a hash table.\n",
        "It’s like a real dictionary: you look up a key (word) to find its value (meaning).\n",
        "\n",
        "example:-  student = {\n",
        "    \"name\": \"Shivani\",\n",
        "    \"age\": 22,\n",
        "    \"course\": \"Data Analytics\"\n",
        "}\n",
        " Here:\n",
        "\"name\", \"age\", \"course\" → keys\n",
        "\n",
        "\"Shivani\", 22, \"Data Analytics\"\n",
        "\n",
        "5. Why might you use a set instead of a list in Python?\n",
        "-  You’d prefer a set if:\n",
        "\n",
        "You don’t care about order.\n",
        "\n",
        "You need only unique items.\n",
        "\n",
        "You want fast membership checks (e.g., checking if an element exists).\n",
        "\n",
        "You need mathematical set operations like union, intersection, difference.\n",
        "\n",
        "6. What is a string in Python, and how is it different from a list?\n",
        "-  A string is a sequence of characters (letters, numbers, symbols) enclosed in single quotes '...', double quotes \"...\", or triple quotes '''...''' / \"\"\"...\"\"\".\n",
        "\n",
        "Example: my_string = \"Hello World\"\n",
        "\n",
        " A list is a collection of items (which can be of any data type — strings, numbers, booleans, even other lists) enclosed in square brackets [ ], separated by commas.\n",
        "\n",
        "Example: my_list = [10, \"apple\", True, 3.14]\n",
        "\n",
        "7. How do tuples ensure data integrity in Python?\n",
        "-  Tuples ensure data integrity in Python because they are immutable — meaning once a tuple is created, its elements cannot be changed, added, or removed.\n",
        "\n",
        "This immutability has two main benefits for data integrity:\n",
        "\n",
        "Prevents Accidental Modification\n",
        "If you store data in a tuple, no code can unintentionally alter it later.\n",
        "\n",
        "user_info = (\"Shivani\", 25, \"India\")\n",
        "# user_info[1] = 26  #  Error: 'tuple' object does not support item assignment\n",
        "\n",
        "Safe for Use as Keys in Dictionaries & Elements in Sets\n",
        "Because tuples can’t be changed, Python can rely on their hash value staying constant.\n",
        "\n",
        "This allows tuples (containing only immutable elements) to be used as dictionary keys or set elements, where changing the data would otherwise break lookups.\n",
        "\n",
        "location_coords = {(28.7041, 77.1025): \"Delhi\"}  # Tuple as key\n",
        "print(location_coords[(28.7041, 77.1025)])  # Works reliably\n",
        "\n",
        "8. What is a hash table, and how does it relate to dictionaries in Python?\n",
        "-  A hash table is a data structure that stores key–value pairs and allows fast data access using a hash function.\n",
        "\n",
        " This Relates to Python Dictionaries\n",
        "In Python, a dictionary (dict) is implemented internally using a hash table.\n",
        "\n",
        "The keys in a dictionary are hashed to determine where their values are stored.\n",
        "\n",
        "Example: my_dict = {\"name\": \"Shivani\", \"age\": 21}\n",
        "\n",
        "9. Can lists contain different data types in Python?\n",
        "-  Yes  — in Python, lists can contain elements of different data types in the same list.\n",
        "\n",
        "That’s because Python lists are dynamic and heterogeneous — they don’t require all elements to be the same type (unlike arrays in some other languages).\n",
        "\n",
        "10. Explain why strings are immutable in Python?\n",
        "-   Strings are immutable in Python, meaning once you create a string, you cannot change its contents.\n",
        "If you “modify” a string, Python actually creates a new string object in memory instead of altering the original.\n",
        "\n",
        "11. What advantages do dictionaries offer over lists for certain tasks?\n",
        "-   Dictionaries offer speed, clarity, and flexibility in situations where lists can become slow or cumbersome.\n",
        "\n",
        "- Faster Lookups\n",
        "- More Readable Code\n",
        "- No Need to Remember Index Positions\n",
        "- Flexible Data Organization\n",
        "\n",
        "12. Describe a scenario where using a tuple would be preferable over a list?\n",
        "-  Tuples provide immutability, which ensures data integrity and can also improve performance because Python can optimize memory usage for tuples.\n",
        "\n",
        "Example scenario:\n",
        "\n",
        "Imagine you are working on a geographical application that stores the coordinates of cities:\n",
        "\n",
        "# Using a tuple\n",
        "delhi_coords = (28.6139, 77.2090)  # latitude, longitude\n",
        "Here’s why a tuple is better than a list:\n",
        "\n",
        "Immutability: Coordinates of a city should not change accidentally during the program. Using a tuple prevents accidental modifications.\n",
        "\n",
        "Hashable: Tuples can be used as keys in dictionaries because they are immutable. Lists cannot.\n",
        "\n",
        "Performance: Tuples are slightly faster than lists for iteration and have a smaller memory footprint.\n",
        "\n",
        "13. How do sets handle duplicate values in Python?\n",
        "-   In Python, sets automatically handle duplicate values by removing them. A set is an unordered collection of unique elements, so when you try to add a duplicate, Python simply ignores it.\n",
        "\n",
        "Example:  # Creating a set with duplicates\n",
        "          my_set = {1, 2, 2, 3, 4, 4, 4}\n",
        "          print(my_set)\n",
        "\n",
        "  #output:- {1, 2, 3, 4}\n",
        "\n",
        "14. How does the “in” keyword work differently for lists and dictionaries?\n",
        "-The in keyword in Python is used to check membership, but it behaves slightly differently for lists and dictionaries because of how these data structures store data.\n",
        "\n",
        "1. For Lists\n",
        "in checks if a value exists anywhere in the list.\n",
        "\n",
        "Python goes through the list element by element (linear search).\n",
        "\n",
        "my_list = [10, 20, 30, 40]\n",
        "\n",
        "print(20 in my_list)  # True\n",
        "print(50 in my_list)  # False\n",
        "\n",
        "2. For Dictionaries\n",
        "in checks if a key exists in the dictionary, not values.\n",
        "\n",
        "It does not search through values unless you explicitly do value in dict.values().\n",
        "\n",
        "my_dict = {'a': 1, 'b': 2, 'c': 3}\n",
        "\n",
        "print('a' in my_dict)        # True (key exists)\n",
        "print(2 in my_dict)          # False (2 is a value, not a key)\n",
        "print(2 in my_dict.values()) # True (check in values)\n",
        "\n",
        "15. Can you modify the elements of a tuple? Explain why or why not.\n",
        "-   No, you cannot modify the elements of a tuple in Python. Tuples are immutable, which means once a tuple is created, its elements cannot be changed, added, or removed.\n",
        "\n",
        "Why tuples are immutable:\n",
        "- Data integrity:\n",
        "\n",
        "Sometimes you want to ensure that data remains constant throughout the program. For example, coordinates of a point (x, y) should not change accidentally.\n",
        "\n",
        "- Hashable:\n",
        "\n",
        "Because tuples are immutable, they can be used as keys in dictionaries or elements in sets. Lists cannot, because they can change and would break the hash-based lookup.\n",
        "\n",
        "- Performance:\n",
        "\n",
        "Tuples use less memory and can be slightly faster than lists for iteration because Python can optimize their storage knowing they won’t change.\n",
        "\n",
        "Example showing immutability:\n",
        "\n",
        "my_tuple = (1, 2, 3)\n",
        "my_tuple[0] = 10  #  This will raise an error\n",
        "\n",
        "16. What is a nested dictionary, and give an example of its use case?\n",
        "-   A nested dictionary in Python is a dictionary inside another dictionary. This allows you to store more complex or hierarchical data structures.\n",
        "\n",
        "Structure\n",
        "nested_dict = {\n",
        "    'key1': {'subkey1': value1, 'subkey2': value2},\n",
        "    'key2': {'subkey1': value3, 'subkey2': value4}\n",
        "}\n",
        "The outer dictionary holds keys that map to inner dictionaries.\n",
        "\n",
        "Inner dictionaries can themselves contain other dictionaries, lists, or any data type.\n",
        "\n",
        "17. Describe the time complexity of accessing elements in a dictionary.\n",
        "-   The time complexity of accessing elements in a dictionary in Python is generally O(1) on average, thanks to the way dictionaries are implemented using hash tables.\n",
        "\n",
        "How it works:\n",
        "1. Hashing the key:\n",
        "\n",
        "- When you try to access a value using dict[key], Python first calculates the hash of the key.\n",
        "\n",
        "2. Finding the bucket:\n",
        "\n",
        "- The hash determines which bucket (location in memory) stores the value.\n",
        "\n",
        "3. Retrieving the value:\n",
        "\n",
        "- Python goes directly to that bucket to get the value, which is why it’s fast.\n",
        "\n",
        "18. In what situations are lists preferred over dictionaries?\n",
        "-   Lists are preferred over dictionaries in Python when you need ordered collections of items, index-based access, or duplicate elements. Here’s a breakdown of situations:\n",
        "\n",
        "1. When order matters\n",
        "- Lists preserve the order of elements.\n",
        "\n",
        "- If the order of insertion or sequence of items is important, use a list.\n",
        "\n",
        "\n",
        "fruits = ['apple', 'banana', 'cherry']\n",
        "print(fruits[0])  # Access by index → 'apple'\n",
        "\n",
        "2. When you need index-based access\n",
        "- Lists allow direct access to elements by position using an integer index, which is not possible with dictionaries.\n",
        "\n",
        "\n",
        "numbers = [10, 20, 30, 40]\n",
        "print(numbers[2])  # Output: 30\n",
        "\n",
        "19. Why are dictionaries considered unordered, and how does that affect data retrieval?\n",
        "-  they were considered unordered:\n",
        "1. Python dictionaries are implemented using hash tables.\n",
        "\n",
        "2. When a key-value pair is added, the key is hashed, and the hash determines where the value is stored in memory.\n",
        "\n",
        "3. The position in memory does not depend on insertion order, so iterating over a dictionary could return keys in any arbitrary order.\n",
        "\n",
        "# Older Python versions (<3.6)\n",
        "my_dict = {'a': 1, 'b': 2, 'c': 3}\n",
        "for key in my_dict:\n",
        "    print(key)\n",
        "# Output order could be random, e.g., b, a, c\n",
        "\n",
        "20. Explain the difference between a list and a dictionary in terms of data retrieval.\n",
        "-   1. List\n",
        "- Access method: By index (position in the list).\n",
        "\n",
        "Example: my_list = [10, 20, 30]\n",
        "print(my_list[1])  # Output: 20\n",
        "\n",
        "- Time complexity:\n",
        "\n",
        "Access by index → O(1) (fast)\n",
        "\n",
        "Search for a value → O(n) (may need to check each element)\n",
        "\n",
        "- Duplicates: Allowed\n",
        "\n",
        "2. Dictionary\n",
        "Access method: By key (unique identifier), not position.\n",
        "\n",
        "Example:\n",
        "\n",
        "my_dict = {'a': 10, 'b': 20}\n",
        "print(my_dict['b'])  # Output: 20\n",
        "\n",
        "- Time complexity:\n",
        "\n",
        "Access by key → O(1) average (fast due to hash table)\n",
        "\n",
        "Search by value → O(n)\n",
        "\n",
        "- Duplicates: Keys must be unique\n",
        "\n",
        "\n",
        "\n",
        "\n",
        "\n",
        "\n"
      ],
      "metadata": {
        "id": "-5g-84zbBuKP"
      }
    },
    {
      "cell_type": "code",
      "source": [
        "#1 Write a code to create a string with your name and print it.\n",
        "my_name = \"Shivani\"\n",
        "print(my_name)"
      ],
      "metadata": {
        "colab": {
          "base_uri": "https://localhost:8080/"
        },
        "id": "gOddC8mHqJOr",
        "outputId": "8316e40a-48cc-4693-94ac-ab4f45949dfe"
      },
      "execution_count": null,
      "outputs": [
        {
          "output_type": "stream",
          "name": "stdout",
          "text": [
            "Shivani\n"
          ]
        }
      ]
    },
    {
      "cell_type": "code",
      "source": [
        "#2 Write a code to find the length of the string \"Hello World\".\n",
        "my_string = \"Hello World\"\n",
        "length = len(my_string)\n",
        "print(\"The length of the string is:\", length)"
      ],
      "metadata": {
        "colab": {
          "base_uri": "https://localhost:8080/"
        },
        "id": "PBoNvtZt4WgF",
        "outputId": "d0297cd2-f83d-41a2-b11c-f4deceaadcce"
      },
      "execution_count": null,
      "outputs": [
        {
          "output_type": "stream",
          "name": "stdout",
          "text": [
            "The length of the string is: 11\n"
          ]
        }
      ]
    },
    {
      "cell_type": "code",
      "source": [
        "#3  Write a code to slice the first 3 characters from the string \"Python Programming\".\n",
        "my_string = \"Python Programming\"\n",
        "first_three = my_string[:3]\n",
        "print(\"The first 3 characters are:\", first_three)"
      ],
      "metadata": {
        "colab": {
          "base_uri": "https://localhost:8080/"
        },
        "id": "fk21fpXL6DdE",
        "outputId": "fdbc65a8-c6fd-4ba5-bdbc-3f27d135a849"
      },
      "execution_count": null,
      "outputs": [
        {
          "output_type": "stream",
          "name": "stdout",
          "text": [
            "The first 3 characters are: Pyt\n"
          ]
        }
      ]
    },
    {
      "cell_type": "code",
      "source": [
        "#4 Write a code to convert the string \"hello\" to uppercase.\n",
        "my_string = \"hello\"\n",
        "uppercase_string = my_string.upper()\n",
        "print(\"Uppercase string:\", uppercase_string)\n"
      ],
      "metadata": {
        "colab": {
          "base_uri": "https://localhost:8080/"
        },
        "id": "J6QZEsLE6c1m",
        "outputId": "f4518628-601e-41fa-b803-217cfce4dc55"
      },
      "execution_count": null,
      "outputs": [
        {
          "output_type": "stream",
          "name": "stdout",
          "text": [
            "Uppercase string: HELLO\n"
          ]
        }
      ]
    },
    {
      "cell_type": "code",
      "source": [
        "#5 Write a code to replace the word \"apple\" with \"orange\" in the string \"I like apple.\n",
        "my_string = \"I like apple\"\n",
        "new_string = my_string.replace(\"apple\", \"orange\")\n",
        "print(\"Updated string:\", new_string)\n"
      ],
      "metadata": {
        "colab": {
          "base_uri": "https://localhost:8080/"
        },
        "id": "XHxvGeFk62_y",
        "outputId": "a9c474a7-6ce6-48ab-c824-958e778a3b96"
      },
      "execution_count": null,
      "outputs": [
        {
          "output_type": "stream",
          "name": "stdout",
          "text": [
            "Updated string: I like orange\n"
          ]
        }
      ]
    },
    {
      "cell_type": "code",
      "source": [
        "#6 Write a code to create a list with numbers 1 to 5 and print it\n",
        "list=[1,2,3,4,5]\n",
        "print(list)"
      ],
      "metadata": {
        "colab": {
          "base_uri": "https://localhost:8080/"
        },
        "id": "x-owHRFP7L_m",
        "outputId": "327dd4cb-c07d-4a3f-ce56-ba66e91acdb1"
      },
      "execution_count": null,
      "outputs": [
        {
          "output_type": "stream",
          "name": "stdout",
          "text": [
            "[1, 2, 3, 4, 5]\n"
          ]
        }
      ]
    },
    {
      "cell_type": "code",
      "source": [
        "#7  Write a code to append the number 10 to the list [1, 2, 3, 4].\n",
        "number=[1,2,3,4]\n",
        "number.append(10)\n",
        "print(number)"
      ],
      "metadata": {
        "colab": {
          "base_uri": "https://localhost:8080/"
        },
        "id": "fzCLHcgU7nrN",
        "outputId": "ceec8bea-b90c-4fe6-e4c4-a924cfe162a4"
      },
      "execution_count": null,
      "outputs": [
        {
          "output_type": "stream",
          "name": "stdout",
          "text": [
            "[1, 2, 3, 4, 10]\n"
          ]
        }
      ]
    },
    {
      "cell_type": "code",
      "source": [
        "#8 Write a code to remove the number 3 from the list [1, 2, 3, 4, 5].\n",
        "number=[1,2,3,4,5]\n",
        "number.remove(3)\n",
        "print(number)"
      ],
      "metadata": {
        "colab": {
          "base_uri": "https://localhost:8080/"
        },
        "id": "tsUkxsws8HWL",
        "outputId": "9592e2d0-8a3a-473a-f091-3ee4ab1b8b50"
      },
      "execution_count": null,
      "outputs": [
        {
          "output_type": "stream",
          "name": "stdout",
          "text": [
            "[1, 2, 4, 5]\n"
          ]
        }
      ]
    },
    {
      "cell_type": "code",
      "source": [
        "#9  Write a code to access the second element in the list ['a', 'b', 'c', 'd'].\n",
        "my_list = ['a', 'b', 'c', 'd']\n",
        "second_element = my_list[1]\n",
        "print(\"The second element is:\", second_element)\n"
      ],
      "metadata": {
        "colab": {
          "base_uri": "https://localhost:8080/"
        },
        "id": "Us2i-Hyd8dm2",
        "outputId": "856d523d-92d2-4a9b-a9d2-595d5a0dfd56"
      },
      "execution_count": null,
      "outputs": [
        {
          "output_type": "stream",
          "name": "stdout",
          "text": [
            "The second element is: b\n"
          ]
        }
      ]
    },
    {
      "cell_type": "code",
      "source": [
        "#10  Write a code to reverse the list [10, 20, 30, 40, 50].\n",
        "my_list = [10, 20, 30, 40, 50]\n",
        "reversed_list = my_list[::-1]\n",
        "print(\"Reversed list:\", reversed_list)\n"
      ],
      "metadata": {
        "colab": {
          "base_uri": "https://localhost:8080/"
        },
        "id": "tVGAAsdG9oe7",
        "outputId": "88a46a30-bed1-4a2d-a321-b10c77044ee0"
      },
      "execution_count": null,
      "outputs": [
        {
          "output_type": "stream",
          "name": "stdout",
          "text": [
            "Reversed list: [50, 40, 30, 20, 10]\n"
          ]
        }
      ]
    },
    {
      "cell_type": "code",
      "source": [
        "#11 Write a code to create a tuple with the elements 100, 200, 300 and print it.\n",
        "my_tuple=(100,200,300)\n",
        "print(my_tuple)"
      ],
      "metadata": {
        "colab": {
          "base_uri": "https://localhost:8080/"
        },
        "id": "0NGbr947-LEF",
        "outputId": "5d780afa-66d1-46e2-93a1-b83699742bcb"
      },
      "execution_count": null,
      "outputs": [
        {
          "output_type": "stream",
          "name": "stdout",
          "text": [
            "(100, 200, 300)\n"
          ]
        }
      ]
    },
    {
      "cell_type": "code",
      "source": [
        "#12  Write a code to access the second-to-last element of the tuple ('red', 'green', 'blue', 'yellow').\n",
        "colors = ('red', 'green', 'blue', 'yellow')\n",
        "second_to_last = colors[-2]\n",
        "print(\"The second-to-last element is:\", second_to_last)\n"
      ],
      "metadata": {
        "colab": {
          "base_uri": "https://localhost:8080/"
        },
        "id": "yOLOQIy9-g43",
        "outputId": "3615a70c-2d2f-43e5-f3fc-e57717173d3a"
      },
      "execution_count": null,
      "outputs": [
        {
          "output_type": "stream",
          "name": "stdout",
          "text": [
            "The second-to-last element is: blue\n"
          ]
        }
      ]
    },
    {
      "cell_type": "code",
      "source": [
        "#13  Write a code to find the minimum number in the tuple (10, 20, 5, 15).\n",
        "number=(10,20,5,15)\n",
        "maximum=max(number)\n",
        "print(maximum)"
      ],
      "metadata": {
        "colab": {
          "base_uri": "https://localhost:8080/"
        },
        "id": "bc0yZzus-v6d",
        "outputId": "cb9f7162-074a-4871-a637-a013f0281c76"
      },
      "execution_count": null,
      "outputs": [
        {
          "output_type": "stream",
          "name": "stdout",
          "text": [
            "20\n"
          ]
        }
      ]
    },
    {
      "cell_type": "code",
      "source": [
        "#14  Write a code to find the minimum number in the tuple (10, 20, 5, 15).\n",
        "\n",
        "numbers = (10, 20, 5, 15)\n",
        "minimum_number = min(numbers)\n",
        "print(\"The minimum number is:\", minimum_number)\n"
      ],
      "metadata": {
        "colab": {
          "base_uri": "https://localhost:8080/"
        },
        "id": "_WfJX-RHACqd",
        "outputId": "0396d9fb-e3cf-42e9-b59c-7b79a292f640"
      },
      "execution_count": null,
      "outputs": [
        {
          "output_type": "stream",
          "name": "stdout",
          "text": [
            "The minimum number is: 5\n"
          ]
        }
      ]
    },
    {
      "cell_type": "code",
      "source": [
        "#15  Write a code to create a tuple containing three different fruits and check if \"kiwi\" is in it.\n",
        "fruits = (\"apple\", \"banana\", \"cherry\")\n",
        "\n",
        "if \"kiwi\" in fruits:\n",
        "    print(\"kiwi is in the tuple\")\n",
        "else:\n",
        "    print(\"kiwi is not in the tuple\")"
      ],
      "metadata": {
        "colab": {
          "base_uri": "https://localhost:8080/"
        },
        "id": "-r7Cp-KKAi5g",
        "outputId": "919d84fb-b3e2-4ed5-98c3-4c76a1896b7b"
      },
      "execution_count": null,
      "outputs": [
        {
          "output_type": "stream",
          "name": "stdout",
          "text": [
            "kiwi is not in the tuple\n"
          ]
        }
      ]
    },
    {
      "cell_type": "code",
      "source": [
        "#16 Write a code to create a set with the elements 'a', 'b', 'c' and print it.\n",
        "my_set = {'a', 'b', 'c'}\n",
        "print(\"The set is:\", my_set)\n"
      ],
      "metadata": {
        "colab": {
          "base_uri": "https://localhost:8080/"
        },
        "id": "wX_HeYh7AvUs",
        "outputId": "a3e2adeb-a363-40d9-c849-436f7d796dd7"
      },
      "execution_count": null,
      "outputs": [
        {
          "output_type": "stream",
          "name": "stdout",
          "text": [
            "The set is: {'b', 'a', 'c'}\n"
          ]
        }
      ]
    },
    {
      "cell_type": "code",
      "source": [
        "#17 Write a code to clear all elements from the set {1, 2, 3, 4, 5}.\n",
        "my_set = {1, 2, 3, 4, 5}\n",
        "my_set.clear()\n",
        "print(\"The set after clearing all elements:\", my_set)"
      ],
      "metadata": {
        "colab": {
          "base_uri": "https://localhost:8080/"
        },
        "id": "a9jrZipjCWlX",
        "outputId": "a0991968-d089-4afe-d6bd-8c06980c8497"
      },
      "execution_count": null,
      "outputs": [
        {
          "output_type": "stream",
          "name": "stdout",
          "text": [
            "The set after clearing all elements: set()\n"
          ]
        }
      ]
    },
    {
      "cell_type": "code",
      "source": [
        "#18  Write a code to remove the element 4 from the set {1, 2, 3, 4}.\n",
        "my_set ={1,2,3,4}\n",
        "my_set.remove(4)\n",
        "print(my_set)"
      ],
      "metadata": {
        "colab": {
          "base_uri": "https://localhost:8080/"
        },
        "id": "7ir6t_suCosr",
        "outputId": "5cbd4f5e-d052-4d21-aaa8-0f551235ee52"
      },
      "execution_count": null,
      "outputs": [
        {
          "output_type": "stream",
          "name": "stdout",
          "text": [
            "{1, 2, 3}\n"
          ]
        }
      ]
    },
    {
      "cell_type": "code",
      "source": [
        "#19 Write a code to find the union of two sets {1, 2, 3} and {3, 4, 5}.\n",
        "set1 = {1, 2, 3}\n",
        "set2 = {3, 4, 5}\n",
        "union_set = set1.union(set2)\n",
        "print(\"The union of the two sets is:\", union_set)"
      ],
      "metadata": {
        "colab": {
          "base_uri": "https://localhost:8080/"
        },
        "id": "rgsd1XFYDCHz",
        "outputId": "c2aba09a-b8ed-48c3-a4b9-ea27446b3b84"
      },
      "execution_count": null,
      "outputs": [
        {
          "output_type": "stream",
          "name": "stdout",
          "text": [
            "The union of the two sets is: {1, 2, 3, 4, 5}\n"
          ]
        }
      ]
    },
    {
      "cell_type": "code",
      "source": [
        "#20 Write a code to find the intersection of two sets {1, 2, 3} and {2, 3, 4}.\n",
        "set1 = {1, 2, 3}\n",
        "set2 = {2, 3, 4}\n",
        "intersection_set = set1.intersection(set2)\n",
        "print(\"The intersection of the two sets is:\", intersection_set)"
      ],
      "metadata": {
        "colab": {
          "base_uri": "https://localhost:8080/"
        },
        "id": "K1yTE5WMDW-5",
        "outputId": "bcce6726-e5af-4220-a138-7e901fe28ae4"
      },
      "execution_count": null,
      "outputs": [
        {
          "output_type": "stream",
          "name": "stdout",
          "text": [
            "The intersection of the two sets is: {2, 3}\n"
          ]
        }
      ]
    },
    {
      "cell_type": "code",
      "source": [
        "#21 Write a code to create a dictionary with the keys \"name\", \"age\", and \"city\", and print it.\n",
        "person = {\n",
        "    \"name\": \"Shivani\",\n",
        "    \"age\": 21,\n",
        "    \"city\": \"Dehradun\"\n",
        "}\n",
        "print(\"The dictionary is:\", person)\n"
      ],
      "metadata": {
        "colab": {
          "base_uri": "https://localhost:8080/"
        },
        "id": "U7BqtrcLDy5m",
        "outputId": "cf4b1a53-8fdc-44b6-b50a-572e26d51171"
      },
      "execution_count": null,
      "outputs": [
        {
          "output_type": "stream",
          "name": "stdout",
          "text": [
            "The dictionary is: {'name': 'Shivani', 'age': 21, 'city': 'Dehradun'}\n"
          ]
        }
      ]
    },
    {
      "cell_type": "code",
      "source": [
        "#22 . Write a code to add a new key-value pair \"country\": \"USA\" to the dictionary {'name': 'John', 'age': 25}.\n",
        "person = {'name': 'John', 'age': 25}\n",
        "person['country'] = 'USA'\n",
        "print(\"Updated dictionary:\", person)"
      ],
      "metadata": {
        "colab": {
          "base_uri": "https://localhost:8080/"
        },
        "id": "S9y_cxeHEfaV",
        "outputId": "82f89f5c-364f-432e-a50a-89d213a3ee72"
      },
      "execution_count": null,
      "outputs": [
        {
          "output_type": "stream",
          "name": "stdout",
          "text": [
            "Updated dictionary: {'name': 'John', 'age': 25, 'country': 'USA'}\n"
          ]
        }
      ]
    },
    {
      "cell_type": "code",
      "source": [
        "#23  Write a code to access the value associated with the key \"name\" in the dictionary {'name': 'Alice', 'age': 30}.\n",
        "person = {'name': 'Alice', 'age': 30}\n",
        "name_value = person['name']\n",
        "print(\"The value associated with the key 'name' is:\", name_value)"
      ],
      "metadata": {
        "colab": {
          "base_uri": "https://localhost:8080/"
        },
        "id": "dCzBKmwbEy5_",
        "outputId": "2ec83be6-9ec1-42c3-fb8c-f0686d7f107b"
      },
      "execution_count": null,
      "outputs": [
        {
          "output_type": "stream",
          "name": "stdout",
          "text": [
            "The value associated with the key 'name' is: Alice\n"
          ]
        }
      ]
    },
    {
      "cell_type": "code",
      "source": [
        "#24  Write a code to remove the key \"age\" from the dictionary {'name': 'Bob', 'age': 22, 'city': 'New York'}.\n",
        "person = {'name': 'Bob', 'age': 22, 'city': 'New York'}\n",
        "del person['age']\n",
        "print(\"Updated dictionary:\", person)\n"
      ],
      "metadata": {
        "colab": {
          "base_uri": "https://localhost:8080/"
        },
        "id": "W-jLjMRJFAx1",
        "outputId": "bae94bc1-f85f-4839-910f-7d77f51b3780"
      },
      "execution_count": null,
      "outputs": [
        {
          "output_type": "stream",
          "name": "stdout",
          "text": [
            "Updated dictionary: {'name': 'Bob', 'city': 'New York'}\n"
          ]
        }
      ]
    },
    {
      "cell_type": "code",
      "source": [
        "#25  Write a code to check if the key \"city\" exists in the dictionary {'name': 'Alice', 'city': 'Paris'}.\n",
        "person = {'name': 'Alice', 'city': 'Paris'}\n",
        "if 'city' in person:\n",
        "    print(\"The key 'city' exists in the dictionary.\")\n",
        "else:\n",
        "    print(\"The key 'city' does not exist in the dictionary.\")\n"
      ],
      "metadata": {
        "colab": {
          "base_uri": "https://localhost:8080/"
        },
        "id": "jeeaCVSZFgSb",
        "outputId": "90ea3a9a-99c7-4ff5-bb30-16f971a745e8"
      },
      "execution_count": null,
      "outputs": [
        {
          "output_type": "stream",
          "name": "stdout",
          "text": [
            "The key 'city' exists in the dictionary.\n"
          ]
        }
      ]
    },
    {
      "cell_type": "code",
      "source": [
        "#26 Write a code to create a list, a tuple, and a dictionary, and print them all.\n",
        "my_list = [1, 2, 3, 4, 5]\n",
        "my_tuple = ('apple', 'banana', 'cherry')\n",
        "my_dict = {\n",
        "    \"name\": \"Shivani\",\n",
        "    \"age\": 22,\n",
        "    \"city\": \"Mumbai\"\n",
        "}\n",
        "print(\"List:\", my_list)\n",
        "print(\"Tuple:\", my_tuple)\n",
        "print(\"Dictionary:\", my_dict)\n",
        "\n",
        "\n",
        "\n",
        "\n",
        "\n",
        "\n"
      ],
      "metadata": {
        "id": "BAaHklVFGeES",
        "colab": {
          "base_uri": "https://localhost:8080/"
        },
        "outputId": "ba55e303-3f37-4126-9622-2c07afda3d23"
      },
      "execution_count": null,
      "outputs": [
        {
          "output_type": "stream",
          "name": "stdout",
          "text": [
            "List: [1, 2, 3, 4, 5]\n",
            "Tuple: ('apple', 'banana', 'cherry')\n",
            "Dictionary: {'name': 'Shivani', 'age': 22, 'city': 'Mumbai'}\n"
          ]
        }
      ]
    },
    {
      "cell_type": "code",
      "source": [
        "#27  Write a code to create a list of 5 random numbers between 1 and 100, sort it in ascending order, and print the  result.(replaced)\n",
        "import random\n",
        "random_numbers = [random.randint(1, 100) for _ in range(5)]\n",
        "random_numbers.sort()\n",
        "print(\"Sorted list of random numbers:\", random_numbers)"
      ],
      "metadata": {
        "colab": {
          "base_uri": "https://localhost:8080/"
        },
        "id": "lb0G7kkOgsdp",
        "outputId": "1d6ca1b4-82b7-4997-9623-580b6ec68956"
      },
      "execution_count": null,
      "outputs": [
        {
          "output_type": "stream",
          "name": "stdout",
          "text": [
            "Sorted list of random numbers: [15, 31, 33, 49, 83]\n"
          ]
        }
      ]
    },
    {
      "cell_type": "code",
      "source": [
        "#28 Write a code to create a list with strings and print the element at the third index.\n",
        "my_list = [\"apple\", \"banana\", \"cherry\", \"date\", \"elderberry\"]\n",
        "third_element = my_list[2]\n",
        "print(\"The element at index 2 is:\", third_element)"
      ],
      "metadata": {
        "colab": {
          "base_uri": "https://localhost:8080/"
        },
        "id": "yoXRowIDhM1-",
        "outputId": "dfa50f07-e76f-466e-f8b3-f376139c817a"
      },
      "execution_count": null,
      "outputs": [
        {
          "output_type": "stream",
          "name": "stdout",
          "text": [
            "The element at index 2 is: cherry\n"
          ]
        }
      ]
    },
    {
      "cell_type": "code",
      "source": [
        "#29 Write a code to combine two dictionaries into one and print the result.\n",
        "dict1 = {'a': 1, 'b': 2}\n",
        "dict2 = {'c': 3, 'd': 4}\n",
        "combined_dict = {**dict1, **dict2}\n",
        "print(\"Combined dictionary:\", combined_dict)\n"
      ],
      "metadata": {
        "colab": {
          "base_uri": "https://localhost:8080/"
        },
        "id": "TgfdGgv7hXZZ",
        "outputId": "20389706-e331-4628-ffe1-7796c4b06dd0"
      },
      "execution_count": null,
      "outputs": [
        {
          "output_type": "stream",
          "name": "stdout",
          "text": [
            "Combined dictionary: {'a': 1, 'b': 2, 'c': 3, 'd': 4}\n"
          ]
        }
      ]
    },
    {
      "cell_type": "code",
      "source": [
        "#30  Write a code to convert a list of strings into a set.\n",
        "my_list = [\"apple\", \"banana\", \"cherry\", \"banana\", \"date\"]\n",
        "my_set = set(my_list)\n",
        "print(\"Set from list:\", my_set)"
      ],
      "metadata": {
        "colab": {
          "base_uri": "https://localhost:8080/"
        },
        "id": "k0mLCwuahnR5",
        "outputId": "88d8e538-3b45-4e2e-e0c8-aa61bcd17748"
      },
      "execution_count": null,
      "outputs": [
        {
          "output_type": "stream",
          "name": "stdout",
          "text": [
            "Set from list: {'banana', 'cherry', 'apple', 'date'}\n"
          ]
        }
      ]
    }
  ]
}